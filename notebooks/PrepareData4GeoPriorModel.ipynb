{
 "cells": [
  {
   "cell_type": "code",
   "execution_count": 1,
   "metadata": {},
   "outputs": [],
   "source": [
    "# Copyright 2021 Fagner Cunha\n",
    "#\n",
    "# Licensed under the Apache License, Version 2.0 (the \"License\");\n",
    "# you may not use this file except in compliance with the License.\n",
    "# You may obtain a copy of the License at\n",
    "#\n",
    "#     http://www.apache.org/licenses/LICENSE-2.0\n",
    "#\n",
    "# Unless required by applicable law or agreed to in writing, software\n",
    "# distributed under the License is distributed on an \"AS IS\" BASIS,\n",
    "# WITHOUT WARRANTIES OR CONDITIONS OF ANY KIND, either express or implied.\n",
    "# See the License for the specific language governing permissions and\n",
    "# limitations under the License."
   ]
  },
  {
   "cell_type": "code",
   "execution_count": 2,
   "metadata": {},
   "outputs": [],
   "source": [
    "import os\n",
    "import sys\n",
    "import inspect\n",
    "\n",
    "currentdir = os.path.dirname(os.path.abspath(inspect.getfile(inspect.currentframe())))\n",
    "parentdir = os.path.dirname(currentdir)\n",
    "sys.path.insert(0,parentdir)"
   ]
  },
  {
   "cell_type": "code",
   "execution_count": 3,
   "metadata": {},
   "outputs": [],
   "source": [
    "import json\n",
    "import numpy as np\n",
    "import pandas as pd\n",
    "\n",
    "from classification.iwildcamlib import CategoryMap"
   ]
  },
  {
   "cell_type": "code",
   "execution_count": 4,
   "metadata": {},
   "outputs": [],
   "source": [
    "def _get_data_from_dict(row, dictionary, dictionary_key):\n",
    "    if str(row['location']) in dictionary:\n",
    "        return dictionary[str(row['location'])][dictionary_key]\n",
    "    else:\n",
    "        return np.NaN\n",
    "\n",
    "def prepare_location_info(data_info, locations):\n",
    "    images = pd.DataFrame(data_info)\n",
    "    images['date'] = images['datetime']\n",
    "    images['latitude'] = images.apply(lambda row: _get_data_from_dict(row, locations, 'latitude'), axis=1)\n",
    "    images['longitude'] = images.apply(lambda row: _get_data_from_dict(row, locations, 'longitude'), axis=1)\n",
    "    \n",
    "    return images.to_dict('records')\n",
    "\n",
    "def _map_categ(row, categ_map):\n",
    "    return categ_map.category_to_index(row['category_id'])\n",
    "\n",
    "def prepare_category(data_info, categ_map):\n",
    "    ann = pd.DataFrame(data_info)\n",
    "    ann['category_id'] = ann.apply(lambda row: _map_categ(row, categ_map), axis=1)\n",
    "    return ann.to_dict('records')\n",
    "\n",
    "def filter_locations(data_info, locations):\n",
    "    images = pd.DataFrame(data_info)\n",
    "    images = images[images.location.isin(locations)].copy()\n",
    "    \n",
    "    return images.to_dict('records')"
   ]
  },
  {
   "cell_type": "markdown",
   "metadata": {},
   "source": [
    "### Loading metadata"
   ]
  },
  {
   "cell_type": "code",
   "execution_count": 5,
   "metadata": {},
   "outputs": [],
   "source": [
    "locations_file = '/data/fagner/iWildCam2021/data/metadata/gps_locations.json'\n",
    "train_file = '/data/fagner/iWildCam2021/data/metadata/iwildcam2021_train_annotations.json'\n",
    "test_file = '/data/fagner/iWildCam2021/data/metadata/iwildcam2021_test_information.json'\n",
    "train_dataset_split = '../data/data_split.json'"
   ]
  },
  {
   "cell_type": "code",
   "execution_count": 6,
   "metadata": {},
   "outputs": [],
   "source": [
    "with open(locations_file) as json_file:\n",
    "    locations = json.load(json_file)\n",
    "\n",
    "with open(train_file) as json_file:\n",
    "    train_info = json.load(json_file)\n",
    "\n",
    "with open(test_file) as json_file:\n",
    "    test_info = json.load(json_file)\n",
    "\n",
    "with open(train_dataset_split) as json_file:\n",
    "    split_info = json.load(json_file)\n",
    "\n",
    "category_map = CategoryMap(train_file)"
   ]
  },
  {
   "cell_type": "markdown",
   "metadata": {},
   "source": [
    "### Converting data"
   ]
  },
  {
   "cell_type": "code",
   "execution_count": 7,
   "metadata": {},
   "outputs": [],
   "source": [
    "train_info['images'] = prepare_location_info(train_info['images'], locations)\n",
    "train_info['annotations'] = prepare_category(train_info['annotations'], category_map)"
   ]
  },
  {
   "cell_type": "code",
   "execution_count": 8,
   "metadata": {},
   "outputs": [],
   "source": [
    "test_info['images'] = prepare_location_info(test_info['images'], locations)"
   ]
  },
  {
   "cell_type": "code",
   "execution_count": 9,
   "metadata": {},
   "outputs": [],
   "source": [
    "trainmini_info = train_info.copy()\n",
    "trainmini_info['images'] = filter_locations(trainmini_info['images'], split_info['train'])"
   ]
  },
  {
   "cell_type": "code",
   "execution_count": 10,
   "metadata": {},
   "outputs": [],
   "source": [
    "val_info = train_info.copy()\n",
    "val_info['images'] = filter_locations(val_info['images'], split_info['validation'])"
   ]
  },
  {
   "cell_type": "markdown",
   "metadata": {},
   "source": [
    "### Save data"
   ]
  },
  {
   "cell_type": "code",
   "execution_count": 11,
   "metadata": {},
   "outputs": [],
   "source": [
    "train_geo_file = '/data/fagner/iWildCam2021/data/metadata/iwildcam2021_train_annotations_geoprior.json'\n",
    "trainmin_geo_file = '/data/fagner/iWildCam2021/data/metadata/iwildcam2021_trainmini_annotations_geoprior.json'\n",
    "val_geo_file = '/data/fagner/iWildCam2021/data/metadata/iwildcam2021_val_annotations_geoprior.json'\n",
    "test_geo_file = '/data/fagner/iWildCam2021/data/metadata/iwildcam2021_test_information_geoprior.json'"
   ]
  },
  {
   "cell_type": "code",
   "execution_count": 12,
   "metadata": {},
   "outputs": [],
   "source": [
    "with open(train_geo_file, 'w') as json_file:\n",
    "    json.dump(train_info, json_file)\n",
    "\n",
    "with open(trainmin_geo_file, 'w') as json_file:\n",
    "    json.dump(trainmini_info, json_file)\n",
    "\n",
    "with open(val_geo_file, 'w') as json_file:\n",
    "    json.dump(val_info, json_file)\n",
    "\n",
    "with open(test_geo_file, 'w') as json_file:\n",
    "    json.dump(test_info, json_file)"
   ]
  }
 ],
 "metadata": {
  "kernelspec": {
   "display_name": "Python 3",
   "language": "python",
   "name": "python3"
  },
  "language_info": {
   "codemirror_mode": {
    "name": "ipython",
    "version": 3
   },
   "file_extension": ".py",
   "mimetype": "text/x-python",
   "name": "python",
   "nbconvert_exporter": "python",
   "pygments_lexer": "ipython3",
   "version": "3.8.5"
  }
 },
 "nbformat": 4,
 "nbformat_minor": 4
}
